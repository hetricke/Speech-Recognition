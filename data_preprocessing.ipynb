{
 "cells": [
  {
   "cell_type": "code",
   "execution_count": 1,
   "metadata": {},
   "outputs": [
    {
     "name": "stderr",
     "output_type": "stream",
     "text": [
      "2023-12-09 10:39:05.722602: I tensorflow/core/platform/cpu_feature_guard.cc:182] This TensorFlow binary is optimized to use available CPU instructions in performance-critical operations.\n",
      "To enable the following instructions: SSE4.1 SSE4.2 AVX AVX2 FMA, in other operations, rebuild TensorFlow with the appropriate compiler flags.\n"
     ]
    }
   ],
   "source": [
    "from tensorflow import keras\n",
    "import matplotlib.pyplot as plt\n",
    "import numpy as np\n",
    "from pydub import AudioSegment\n",
    "from scipy.io import wavfile\n",
    "from tempfile import mktemp\n",
    "import re"
   ]
  },
  {
   "cell_type": "code",
   "execution_count": 2,
   "metadata": {},
   "outputs": [],
   "source": [
    "#helper function used to remove silence from beginning and end of audio segments\n",
    "def detect_leading_silence(sound, silence_threshold=-50.0, chunk_size=10):\n",
    "    trim_ms = 0\n",
    "\n",
    "    assert chunk_size > 0\n",
    "    while sound[trim_ms:trim_ms+chunk_size].dBFS < silence_threshold and trim_ms < len(sound):\n",
    "        trim_ms += chunk_size\n",
    "\n",
    "    return trim_ms"
   ]
  },
  {
   "cell_type": "code",
   "execution_count": 3,
   "metadata": {},
   "outputs": [],
   "source": [
    "#regulates transcripts and converts it into a list of integers\n",
    "def transcript_prep(transcription):\n",
    "    \n",
    "    transcription = transcription.lower()\n",
    "    \n",
    "    #removes all values that aren't spaces or letters\n",
    "    transcription = re.sub(r'[^a-z ]', '', transcription)\n",
    "\n",
    "    return list(transcription)"
   ]
  },
  {
   "cell_type": "code",
   "execution_count": 4,
   "metadata": {},
   "outputs": [],
   "source": [
    "#processes the audio file input for use in the neural network\n",
    "def audio_file_prep(audio_file):\n",
    "\n",
    "    #reads in mp3\n",
    "    mp3_audio = AudioSegment.from_file(audio_file, format=\"mp3\")  # read mp3\n",
    "\n",
    "    #returns -1 if the mp3 file is empty\n",
    "    if(round(mp3_audio.duration_seconds) == 0):\n",
    "        return -1\n",
    "\n",
    "    #removes silent audio from the beginning and end\n",
    "    start_trim = detect_leading_silence(mp3_audio)\n",
    "    end_trim = detect_leading_silence(mp3_audio.reverse())\n",
    "    duration = len(mp3_audio)    \n",
    "    trimmed_sound = mp3_audio[start_trim:duration-end_trim]\n",
    "\n",
    "    #converts the mp3 into a wav file\n",
    "    wname = mktemp('.wav')\n",
    "    trimmed_sound.export(wname, format=\"wav\")\n",
    "    FS, audio_data = wavfile.read(wname)\n",
    "\n",
    "\n",
    "    #creates a file name for the spectrogram\n",
    "    file_name = str(audio_file[:-4]) + \".png\"\n",
    "    image_name = image_name + 1\n",
    "\n",
    "    #creates and saves the spectrogram\n",
    "    plt.figure()\n",
    "    plt.specgram(audio_data, Fs=FS, NFFT=128, noverlap=0)  # plot\n",
    "    plt.axis('off')\n",
    "    plt.savefig(file_name, bbox_inches='tight')\n",
    "\n",
    "    #clears the figure for the next audio transcript- otherwise it just overwrites the image\n",
    "    plt.close()\n",
    "\n",
    "\n",
    "    #loads the spectrogram and turns it into an array\n",
    "    img = keras.preprocessing.image.load_img(file_name)\n",
    "    img_array = keras.preprocessing.image.img_to_array(img)\n",
    "\n",
    "    #flattens the array and normalizes the data\n",
    "    new_dim = img_array.shape[0]*img_array.shape[1]\n",
    "    img_array = img_array.reshape(new_dim, -1)\n",
    "    img_array = img_array.flatten()\n",
    "    img_array = img_array.tolist()\n",
    "    img_array[:] = [x / 255 for x in img_array]\n",
    "\n",
    "    return img_array\n"
   ]
  }
 ],
 "metadata": {
  "kernelspec": {
   "display_name": "speech_recog_env",
   "language": "python",
   "name": "python3"
  },
  "language_info": {
   "codemirror_mode": {
    "name": "ipython",
    "version": 3
   },
   "file_extension": ".py",
   "mimetype": "text/x-python",
   "name": "python",
   "nbconvert_exporter": "python",
   "pygments_lexer": "ipython3",
   "version": "3.11.0"
  }
 },
 "nbformat": 4,
 "nbformat_minor": 2
}
