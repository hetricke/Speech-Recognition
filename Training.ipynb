{
 "cells": [
  {
   "cell_type": "code",
   "execution_count": 47,
   "metadata": {},
   "outputs": [],
   "source": [
    "from tensorflow.keras.utils import pad_sequences\n",
    "from tensorflow.keras.preprocessing.text import Tokenizer\n",
    "#from sklearn.model_selection import train_test_split\n",
    "import tensorflow as tf\n",
    "import librosa\n",
    "from tensorflow import keras\n",
    "import pandas as pd\n",
    "import matplotlib.pyplot as plt\n",
    "import matplotlib.image as mpimg\n",
    "#import seaborn as sns\n",
    "import numpy as np\n",
    "from pydub import AudioSegment\n",
    "from pydub.playback import play\n",
    "from scipy.io import wavfile\n",
    "from tempfile import mktemp\n",
    "\n",
    "from datasets import load_dataset"
   ]
  },
  {
   "cell_type": "code",
   "execution_count": 158,
   "metadata": {},
   "outputs": [],
   "source": [
    "TIME_STEPS = 2\n",
    "image_name = 0\n",
    "#TODO convert the processed data arrays to numpy\n",
    "x_processed_data = []\n",
    "y_processed_data = []"
   ]
  },
  {
   "cell_type": "code",
   "execution_count": 159,
   "metadata": {},
   "outputs": [
    {
     "name": "stderr",
     "output_type": "stream",
     "text": [
      "Using the latest cached version of the module from /home/hetricke/.cache/huggingface/modules/datasets_modules/datasets/mozilla-foundation--common_voice_11_0/3f27acf10f303eac5b6fbbbe02495aeddb46ecffdb0a2fe3507fcfbf89094631 (last modified on Thu Sep  7 18:05:10 2023) since it couldn't be found locally at mozilla-foundation/common_voice_11_0., or remotely on the Hugging Face Hub.\n",
      "Found cached dataset common_voice_11_0 (/home/hetricke/.cache/huggingface/datasets/mozilla-foundation___common_voice_11_0/en/11.0.0/3f27acf10f303eac5b6fbbbe02495aeddb46ecffdb0a2fe3507fcfbf89094631)\n"
     ]
    }
   ],
   "source": [
    "ds = load_dataset(\"mozilla-foundation/common_voice_11_0\", \"en\", split='train[:100]')"
   ]
  },
  {
   "cell_type": "code",
   "execution_count": 160,
   "metadata": {},
   "outputs": [],
   "source": [
    "def detect_leading_silence(sound, silence_threshold=-50.0, chunk_size=10):\n",
    "    '''\n",
    "    sound is a pydub.AudioSegment\n",
    "    silence_threshold in dB\n",
    "    chunk_size in ms\n",
    "\n",
    "    iterate over chunks until you find the first one with sound\n",
    "    '''\n",
    "    trim_ms = 0 # ms\n",
    "\n",
    "    assert chunk_size > 0 # to avoid infinite loop\n",
    "    while sound[trim_ms:trim_ms+chunk_size].dBFS < silence_threshold and trim_ms < len(sound):\n",
    "        trim_ms += chunk_size\n",
    "\n",
    "    return trim_ms"
   ]
  },
  {
   "cell_type": "code",
   "execution_count": 161,
   "metadata": {},
   "outputs": [],
   "source": [
    "#TODO: convert saved transcript to numpy array\n",
    "def transcript_prep(transcription, audio_len):\n",
    "    if transcription.startswith('\"') and transcription.endswith('\"'):\n",
    "        # we can remove trailing quotation marks as they do not affect the transcription\n",
    "        transcription = transcription[1:-1]\n",
    "\n",
    "    if len(transcription) > 0:\n",
    "        if transcription[-1] not in [\".\", \"?\", \"!\"]:\n",
    "            # append a full-stop to sentences that do not end in punctuation\n",
    "            transcription = transcription + \".\"\n",
    "\n",
    "        \n",
    "        t_len = len(transcription)\n",
    "        t_len_mod = len(transcription)%audio_len\n",
    "        t_step = (t_len-t_len_mod)/audio_len\n",
    "\n",
    "        transcript_pieces = []\n",
    "        index=0\n",
    "\n",
    "        while (index < t_len-t_len_mod-1):\n",
    "            transcript_pieces.append(transcription[index:int(index+t_step)])\n",
    "            index = int(index + t_step)\n",
    "\n",
    "        transcript_pieces.append(transcript_pieces[index:t_len])\n",
    "\n",
    "    return transcript_pieces\n"
   ]
  },
  {
   "cell_type": "code",
   "execution_count": 164,
   "metadata": {},
   "outputs": [],
   "source": [
    "#TODO: convert saved data features to numpy array\n",
    "def prepare_dataset(batch):\n",
    "\n",
    "    global image_name\n",
    "    global x_processed_data\n",
    "    global y_processed_data\n",
    "\n",
    "    #reads in mp3\n",
    "    mp3_audio = AudioSegment.from_file(batch['path'], format=\"mp3\")  # read mp3\n",
    "\n",
    "    if(round(mp3_audio.duration_seconds) == 0):\n",
    "        return batch\n",
    "\n",
    "    #removes silent audio from the beginning and end\n",
    "    start_trim = detect_leading_silence(mp3_audio)\n",
    "    end_trim = detect_leading_silence(mp3_audio.reverse())\n",
    "    duration = len(mp3_audio)    \n",
    "    trimmed_sound = mp3_audio[start_trim:duration-end_trim]\n",
    "\n",
    "    #converts the mp3 into a wav file\n",
    "    wname = mktemp('.wav')  # use temporary file\n",
    "    trimmed_sound.export(wname, format=\"wav\")  # convert to wav\n",
    "    FS, audio_data = wavfile.read(wname)  # read wav file\n",
    "\n",
    "\n",
    "    #creates a file name for the spectrogram\n",
    "    file_name = \"images/\"+ str(image_name) + \".png\"\n",
    "    image_name = image_name + 1\n",
    "\n",
    "    #creates and saves the spectrogram\n",
    "    plt.figure()\n",
    "    plt.specgram(audio_data, Fs=FS, NFFT=128, noverlap=0)  # plot\n",
    "    plt.axis('off')\n",
    "    plt.savefig(file_name, bbox_inches='tight')\n",
    "\n",
    "    #clears the figure for the next audio transcript- otherwise it just overwrites the image, which causes Problems\n",
    "    plt.close()\n",
    "\n",
    "\n",
    "    #loads the spectrogram and turns it into an array\n",
    "    img = keras.preprocessing.image.load_img(file_name)\n",
    "    img_array = keras.preprocessing.image.img_to_array(img)\n",
    "\n",
    "\n",
    "    #slices the image array into appriopriate sizes for each chunk\n",
    "    samples = round(mp3_audio.duration_seconds)\n",
    "    features = int(img_array.shape[0]/samples)\n",
    "\n",
    "    divided_img_array = []\n",
    "\n",
    "    index = 0\n",
    "\n",
    "    for i in range(samples-1):\n",
    "        feature_array = img_array[index:index+features]\n",
    "        new_dim = feature_array.shape[0]*feature_array.shape[1]\n",
    "        feature_array = feature_array.reshape(new_dim, -1)\n",
    "\n",
    "        original_length = feature_array.shape[0]\n",
    "        padding = 66908-original_length\n",
    "        feature_array = np.pad(feature_array, [(0,padding), (0,0)], mode='constant')\n",
    "\n",
    "        divided_img_array.append(feature_array)\n",
    "        \n",
    "        index = index + features\n",
    "\n",
    "    x_data = []\n",
    "\n",
    "    for i in range(samples-TIME_STEPS):\n",
    "        x_data.append([])\n",
    "        for j in range(TIME_STEPS):\n",
    "            x_data[i].append(divided_img_array[j])\n",
    "\n",
    "\n",
    "\n",
    "    x_processed_data.append(x_data)\n",
    "    y_processed_data = transcript_prep(batch[\"sentence\"], samples)\n",
    "    \n",
    "\n",
    "\n",
    "    #reshape the spectogram into a 3d array that goes (num samples x timesteps x features)\n",
    "    #1 sample is how many times this gets run through\n",
    "    #timesteps is how far backward to grab (so that's a value that can be played with!)\n",
    "    #num samples is I think how long it is (so grab the mp3 length)\n",
    "    #slice the image accordingly\n",
    "    #convert the image into an array (reference the obj detection) to use for the features\n",
    "    #profit\n",
    "\n",
    "    #so the min time is three, which, at 515 timesteps, gets 171.6666 columns of data per second\n",
    "\n",
    "    return batch\n"
   ]
  },
  {
   "cell_type": "code",
   "execution_count": 165,
   "metadata": {},
   "outputs": [
    {
     "name": "stderr",
     "output_type": "stream",
     "text": [
      "preprocess dataset:  29%|██▉       | 29/100 [00:05<00:13,  5.26 examples/s]/home/hetricke/anaconda3/envs/speech_recog_env/lib/python3.11/site-packages/matplotlib/axes/_axes.py:7939: RuntimeWarning: divide by zero encountered in log10\n",
      "  Z = 10. * np.log10(spec)\n",
      "preprocess dataset:  64%|██████▍   | 64/100 [00:12<00:07,  4.84 examples/s]/home/hetricke/anaconda3/envs/speech_recog_env/lib/python3.11/site-packages/matplotlib/axes/_axes.py:7939: RuntimeWarning: divide by zero encountered in log10\n",
      "  Z = 10. * np.log10(spec)\n",
      "preprocess dataset:  83%|████████▎ | 83/100 [00:16<00:03,  5.01 examples/s]/home/hetricke/anaconda3/envs/speech_recog_env/lib/python3.11/site-packages/matplotlib/axes/_axes.py:7939: RuntimeWarning: divide by zero encountered in log10\n",
      "  Z = 10. * np.log10(spec)\n",
      "preprocess dataset:  85%|████████▌ | 85/100 [00:17<00:03,  4.84 examples/s]/home/hetricke/anaconda3/envs/speech_recog_env/lib/python3.11/site-packages/matplotlib/axes/_axes.py:7939: RuntimeWarning: divide by zero encountered in log10\n",
      "  Z = 10. * np.log10(spec)\n",
      "preprocess dataset:  93%|█████████▎| 93/100 [00:18<00:01,  4.66 examples/s]/home/hetricke/anaconda3/envs/speech_recog_env/lib/python3.11/site-packages/matplotlib/axes/_axes.py:7939: RuntimeWarning: divide by zero encountered in log10\n",
      "  Z = 10. * np.log10(spec)\n",
      "                                                                            \r"
     ]
    }
   ],
   "source": [
    "image_name = 0\n",
    "ds = ds.map(prepare_dataset, desc=\"preprocess dataset\")"
   ]
  },
  {
   "cell_type": "code",
   "execution_count": 172,
   "metadata": {},
   "outputs": [
    {
     "name": "stderr",
     "output_type": "stream",
     "text": [
      "/tmp/ipykernel_31204/3975215461.py:4: VisibleDeprecationWarning: Creating an ndarray from ragged nested sequences (which is a list-or-tuple of lists-or-tuples-or ndarrays with different lengths or shapes) is deprecated. If you meant to do this, you must specify 'dtype=object' when creating the ndarray.\n",
      "  x_processed_data = np.array(x_processed_data)\n",
      "/tmp/ipykernel_31204/3975215461.py:5: VisibleDeprecationWarning: Creating an ndarray from ragged nested sequences (which is a list-or-tuple of lists-or-tuples-or ndarrays with different lengths or shapes) is deprecated. If you meant to do this, you must specify 'dtype=object' when creating the ndarray.\n",
      "  y_processed_data = np.array(y_processed_data)\n"
     ]
    }
   ],
   "source": [
    "# split = ds.train_test_split(test_size = 0.2,train_size = 0.8)\n",
    "# train = split['train']\n",
    "# test = split['test']\n",
    "x_processed_data = np.array(x_processed_data)\n",
    "y_processed_data = np.array(y_processed_data)\n",
    "\n",
    "x_train = x_processed_data[:80]\n",
    "y_train = y_processed_data[:80]\n",
    "\n",
    "x_test = x_processed_data[:-20]\n",
    "y_test = y_processed_data[:-20]\n"
   ]
  },
  {
   "cell_type": "code",
   "execution_count": 167,
   "metadata": {},
   "outputs": [],
   "source": [
    "#build model\n",
    "model = keras.Sequential()\n",
    "model.add(keras.layers.SimpleRNN(units = 128, activation = 'relu', input_shape = (66908, 3)))\n",
    "model.add(keras.layers.Dense(units = 128, activation = 'relu'))\n",
    "model.add(keras.layers.Dense(units = 128, activation='relu'))\n",
    "model.add(keras.layers.Dense(units = 128, activation ='relu'))\n",
    "model.add(keras.layers.Dense(29, activation = 'softmax'))\n",
    "model.compile(optimizer='adam', metrics=['accuracy'])"
   ]
  },
  {
   "cell_type": "code",
   "execution_count": 171,
   "metadata": {},
   "outputs": [
    {
     "ename": "KeyboardInterrupt",
     "evalue": "",
     "output_type": "error",
     "traceback": [
      "\u001b[0;31m---------------------------------------------------------------------------\u001b[0m",
      "\u001b[0;31mKeyboardInterrupt\u001b[0m                         Traceback (most recent call last)",
      "\u001b[1;32m/home/hetricke/Documents/School/ECE 579 Intelligent Systems/Term Project/Code/Speech-Recognition/Training.ipynb Cell 10\u001b[0m line \u001b[0;36m1\n\u001b[0;32m----> <a href='vscode-notebook-cell:/home/hetricke/Documents/School/ECE%20579%20Intelligent%20Systems/Term%20Project/Code/Speech-Recognition/Training.ipynb#X23sZmlsZQ%3D%3D?line=0'>1</a>\u001b[0m \u001b[39mprint\u001b[39m(x_train[\u001b[39m0\u001b[39m])\n\u001b[1;32m      <a href='vscode-notebook-cell:/home/hetricke/Documents/School/ECE%20579%20Intelligent%20Systems/Term%20Project/Code/Speech-Recognition/Training.ipynb#X23sZmlsZQ%3D%3D?line=1'>2</a>\u001b[0m \u001b[39mprint\u001b[39m(y_train[\u001b[39m0\u001b[39m])\n",
      "\u001b[1;32m/home/hetricke/Documents/School/ECE 579 Intelligent Systems/Term Project/Code/Speech-Recognition/Training.ipynb Cell 10\u001b[0m line \u001b[0;36m1\n\u001b[0;32m----> <a href='vscode-notebook-cell:/home/hetricke/Documents/School/ECE%20579%20Intelligent%20Systems/Term%20Project/Code/Speech-Recognition/Training.ipynb#X23sZmlsZQ%3D%3D?line=0'>1</a>\u001b[0m \u001b[39mprint\u001b[39m(x_train[\u001b[39m0\u001b[39m])\n\u001b[1;32m      <a href='vscode-notebook-cell:/home/hetricke/Documents/School/ECE%20579%20Intelligent%20Systems/Term%20Project/Code/Speech-Recognition/Training.ipynb#X23sZmlsZQ%3D%3D?line=1'>2</a>\u001b[0m \u001b[39mprint\u001b[39m(y_train[\u001b[39m0\u001b[39m])\n",
      "File \u001b[0;32m_pydevd_bundle/pydevd_cython.pyx:1457\u001b[0m, in \u001b[0;36m_pydevd_bundle.pydevd_cython.SafeCallWrapper.__call__\u001b[0;34m()\u001b[0m\n",
      "File \u001b[0;32m_pydevd_bundle/pydevd_cython.pyx:701\u001b[0m, in \u001b[0;36m_pydevd_bundle.pydevd_cython.PyDBFrame.trace_dispatch\u001b[0;34m()\u001b[0m\n",
      "File \u001b[0;32m_pydevd_bundle/pydevd_cython.pyx:1152\u001b[0m, in \u001b[0;36m_pydevd_bundle.pydevd_cython.PyDBFrame.trace_dispatch\u001b[0;34m()\u001b[0m\n",
      "File \u001b[0;32m_pydevd_bundle/pydevd_cython.pyx:1135\u001b[0m, in \u001b[0;36m_pydevd_bundle.pydevd_cython.PyDBFrame.trace_dispatch\u001b[0;34m()\u001b[0m\n",
      "File \u001b[0;32m_pydevd_bundle/pydevd_cython.pyx:312\u001b[0m, in \u001b[0;36m_pydevd_bundle.pydevd_cython.PyDBFrame.do_wait_suspend\u001b[0;34m()\u001b[0m\n",
      "File \u001b[0;32m~/anaconda3/envs/speech_recog_env/lib/python3.11/site-packages/debugpy/_vendored/pydevd/pydevd.py:2070\u001b[0m, in \u001b[0;36mPyDB.do_wait_suspend\u001b[0;34m(self, thread, frame, event, arg, exception_type)\u001b[0m\n\u001b[1;32m   2067\u001b[0m             from_this_thread\u001b[39m.\u001b[39mappend(frame_custom_thread_id)\n\u001b[1;32m   2069\u001b[0m     \u001b[39mwith\u001b[39;00m \u001b[39mself\u001b[39m\u001b[39m.\u001b[39m_threads_suspended_single_notification\u001b[39m.\u001b[39mnotify_thread_suspended(thread_id, thread, stop_reason):\n\u001b[0;32m-> 2070\u001b[0m         keep_suspended \u001b[39m=\u001b[39m \u001b[39mself\u001b[39;49m\u001b[39m.\u001b[39;49m_do_wait_suspend(thread, frame, event, arg, suspend_type, from_this_thread, frames_tracker)\n\u001b[1;32m   2072\u001b[0m frames_list \u001b[39m=\u001b[39m \u001b[39mNone\u001b[39;00m\n\u001b[1;32m   2074\u001b[0m \u001b[39mif\u001b[39;00m keep_suspended:\n\u001b[1;32m   2075\u001b[0m     \u001b[39m# This means that we should pause again after a set next statement.\u001b[39;00m\n",
      "File \u001b[0;32m~/anaconda3/envs/speech_recog_env/lib/python3.11/site-packages/debugpy/_vendored/pydevd/pydevd.py:2106\u001b[0m, in \u001b[0;36mPyDB._do_wait_suspend\u001b[0;34m(self, thread, frame, event, arg, suspend_type, from_this_thread, frames_tracker)\u001b[0m\n\u001b[1;32m   2103\u001b[0m         \u001b[39mself\u001b[39m\u001b[39m.\u001b[39m_call_input_hook()\n\u001b[1;32m   2105\u001b[0m     \u001b[39mself\u001b[39m\u001b[39m.\u001b[39mprocess_internal_commands()\n\u001b[0;32m-> 2106\u001b[0m     time\u001b[39m.\u001b[39msleep(\u001b[39m0.01\u001b[39m)\n\u001b[1;32m   2108\u001b[0m \u001b[39mself\u001b[39m\u001b[39m.\u001b[39mcancel_async_evaluation(get_current_thread_id(thread), \u001b[39mstr\u001b[39m(\u001b[39mid\u001b[39m(frame)))\n\u001b[1;32m   2110\u001b[0m \u001b[39m# process any stepping instructions\u001b[39;00m\n",
      "\u001b[0;31mKeyboardInterrupt\u001b[0m: "
     ]
    }
   ],
   "source": [
    "print(x_train[0])\n",
    "print(y_train[0])"
   ]
  },
  {
   "cell_type": "code",
   "execution_count": 173,
   "metadata": {},
   "outputs": [
    {
     "ename": "ValueError",
     "evalue": "Failed to find data adapter that can handle input: (<class 'list'> containing values of types {'(<class \\'list\\'> containing values of types {\"<class \\'numpy.ndarray\\'>\"})'}), <class 'str'>",
     "output_type": "error",
     "traceback": [
      "\u001b[0;31m---------------------------------------------------------------------------\u001b[0m",
      "\u001b[0;31mValueError\u001b[0m                                Traceback (most recent call last)",
      "\u001b[1;32m/home/hetricke/Documents/School/ECE 579 Intelligent Systems/Term Project/Code/Speech-Recognition/Training.ipynb Cell 11\u001b[0m line \u001b[0;36m4\n\u001b[1;32m      <a href='vscode-notebook-cell:/home/hetricke/Documents/School/ECE%20579%20Intelligent%20Systems/Term%20Project/Code/Speech-Recognition/Training.ipynb#X12sZmlsZQ%3D%3D?line=0'>1</a>\u001b[0m \u001b[39m#train model\u001b[39;00m\n\u001b[1;32m      <a href='vscode-notebook-cell:/home/hetricke/Documents/School/ECE%20579%20Intelligent%20Systems/Term%20Project/Code/Speech-Recognition/Training.ipynb#X12sZmlsZQ%3D%3D?line=1'>2</a>\u001b[0m \u001b[39m#what you might have to do is iteratively run fit on all the audio samples\u001b[39;00m\n\u001b[0;32m----> <a href='vscode-notebook-cell:/home/hetricke/Documents/School/ECE%20579%20Intelligent%20Systems/Term%20Project/Code/Speech-Recognition/Training.ipynb#X12sZmlsZQ%3D%3D?line=3'>4</a>\u001b[0m model\u001b[39m.\u001b[39;49mfit(x_train[\u001b[39m0\u001b[39;49m], y_train[\u001b[39m0\u001b[39;49m], epochs\u001b[39m=\u001b[39;49m\u001b[39m10\u001b[39;49m, batch_size\u001b[39m=\u001b[39;49m\u001b[39m1\u001b[39;49m)\n",
      "File \u001b[0;32m~/anaconda3/envs/speech_recog_env/lib/python3.11/site-packages/keras/utils/traceback_utils.py:70\u001b[0m, in \u001b[0;36mfilter_traceback.<locals>.error_handler\u001b[0;34m(*args, **kwargs)\u001b[0m\n\u001b[1;32m     67\u001b[0m     filtered_tb \u001b[39m=\u001b[39m _process_traceback_frames(e\u001b[39m.\u001b[39m__traceback__)\n\u001b[1;32m     68\u001b[0m     \u001b[39m# To get the full stack trace, call:\u001b[39;00m\n\u001b[1;32m     69\u001b[0m     \u001b[39m# `tf.debugging.disable_traceback_filtering()`\u001b[39;00m\n\u001b[0;32m---> 70\u001b[0m     \u001b[39mraise\u001b[39;00m e\u001b[39m.\u001b[39mwith_traceback(filtered_tb) \u001b[39mfrom\u001b[39;00m \u001b[39mNone\u001b[39;00m\n\u001b[1;32m     71\u001b[0m \u001b[39mfinally\u001b[39;00m:\n\u001b[1;32m     72\u001b[0m     \u001b[39mdel\u001b[39;00m filtered_tb\n",
      "File \u001b[0;32m~/anaconda3/envs/speech_recog_env/lib/python3.11/site-packages/keras/engine/data_adapter.py:1082\u001b[0m, in \u001b[0;36mselect_data_adapter\u001b[0;34m(x, y)\u001b[0m\n\u001b[1;32m   1079\u001b[0m adapter_cls \u001b[39m=\u001b[39m [\u001b[39mcls\u001b[39m \u001b[39mfor\u001b[39;00m \u001b[39mcls\u001b[39m \u001b[39min\u001b[39;00m ALL_ADAPTER_CLS \u001b[39mif\u001b[39;00m \u001b[39mcls\u001b[39m\u001b[39m.\u001b[39mcan_handle(x, y)]\n\u001b[1;32m   1080\u001b[0m \u001b[39mif\u001b[39;00m \u001b[39mnot\u001b[39;00m adapter_cls:\n\u001b[1;32m   1081\u001b[0m     \u001b[39m# TODO(scottzhu): This should be a less implementation-specific error.\u001b[39;00m\n\u001b[0;32m-> 1082\u001b[0m     \u001b[39mraise\u001b[39;00m \u001b[39mValueError\u001b[39;00m(\n\u001b[1;32m   1083\u001b[0m         \u001b[39m\"\u001b[39m\u001b[39mFailed to find data adapter that can handle input: \u001b[39m\u001b[39m{}\u001b[39;00m\u001b[39m, \u001b[39m\u001b[39m{}\u001b[39;00m\u001b[39m\"\u001b[39m\u001b[39m.\u001b[39mformat(\n\u001b[1;32m   1084\u001b[0m             _type_name(x), _type_name(y)\n\u001b[1;32m   1085\u001b[0m         )\n\u001b[1;32m   1086\u001b[0m     )\n\u001b[1;32m   1087\u001b[0m \u001b[39melif\u001b[39;00m \u001b[39mlen\u001b[39m(adapter_cls) \u001b[39m>\u001b[39m \u001b[39m1\u001b[39m:\n\u001b[1;32m   1088\u001b[0m     \u001b[39mraise\u001b[39;00m \u001b[39mRuntimeError\u001b[39;00m(\n\u001b[1;32m   1089\u001b[0m         \u001b[39m\"\u001b[39m\u001b[39mData adapters should be mutually exclusive for \u001b[39m\u001b[39m\"\u001b[39m\n\u001b[1;32m   1090\u001b[0m         \u001b[39m\"\u001b[39m\u001b[39mhandling inputs. Found multiple adapters \u001b[39m\u001b[39m{}\u001b[39;00m\u001b[39m to handle \u001b[39m\u001b[39m\"\u001b[39m\n\u001b[1;32m   1091\u001b[0m         \u001b[39m\"\u001b[39m\u001b[39minput: \u001b[39m\u001b[39m{}\u001b[39;00m\u001b[39m, \u001b[39m\u001b[39m{}\u001b[39;00m\u001b[39m\"\u001b[39m\u001b[39m.\u001b[39mformat(adapter_cls, _type_name(x), _type_name(y))\n\u001b[1;32m   1092\u001b[0m     )\n",
      "\u001b[0;31mValueError\u001b[0m: Failed to find data adapter that can handle input: (<class 'list'> containing values of types {'(<class \\'list\\'> containing values of types {\"<class \\'numpy.ndarray\\'>\"})'}), <class 'str'>"
     ]
    }
   ],
   "source": [
    "#train model\n",
    "#what you might have to do is iteratively run fit on all the audio samples\n",
    "\n",
    "model.fit(x_train[0], y_train[0], epochs=10, batch_size=1)\n"
   ]
  },
  {
   "cell_type": "code",
   "execution_count": null,
   "metadata": {},
   "outputs": [],
   "source": [
    "#add computer i/o for speech recognition"
   ]
  }
 ],
 "metadata": {
  "kernelspec": {
   "display_name": "base",
   "language": "python",
   "name": "python3"
  },
  "language_info": {
   "codemirror_mode": {
    "name": "ipython",
    "version": 3
   },
   "file_extension": ".py",
   "mimetype": "text/x-python",
   "name": "python",
   "nbconvert_exporter": "python",
   "pygments_lexer": "ipython3",
   "version": "3.11.5"
  }
 },
 "nbformat": 4,
 "nbformat_minor": 2
}
