{
 "cells": [
  {
   "cell_type": "code",
   "execution_count": 1,
   "metadata": {},
   "outputs": [
    {
     "name": "stderr",
     "output_type": "stream",
     "text": [
      "2023-11-28 15:49:12.847489: I tensorflow/core/platform/cpu_feature_guard.cc:182] This TensorFlow binary is optimized to use available CPU instructions in performance-critical operations.\n",
      "To enable the following instructions: SSE4.1 SSE4.2 AVX AVX2 FMA, in other operations, rebuild TensorFlow with the appropriate compiler flags.\n",
      "/home/hetricke/anaconda3/envs/speech_recog_env/lib/python3.11/site-packages/tqdm/auto.py:21: TqdmWarning: IProgress not found. Please update jupyter and ipywidgets. See https://ipywidgets.readthedocs.io/en/stable/user_install.html\n",
      "  from .autonotebook import tqdm as notebook_tqdm\n"
     ]
    }
   ],
   "source": [
    "from tensorflow.keras.utils import pad_sequences\n",
    "from tensorflow.keras.preprocessing.text import Tokenizer\n",
    "#from sklearn.model_selection import train_test_split\n",
    "import tensorflow as tf\n",
    "import librosa\n",
    "from tensorflow import keras\n",
    "import pandas as pd\n",
    "import matplotlib.pyplot as plt\n",
    "import matplotlib.image as mpimg\n",
    "#import seaborn as sns\n",
    "import numpy as np\n",
    "from pydub import AudioSegment\n",
    "from pydub.playback import play\n",
    "from scipy.io import wavfile\n",
    "from tempfile import mktemp\n",
    "\n",
    "from datasets import load_dataset"
   ]
  },
  {
   "cell_type": "code",
   "execution_count": 2,
   "metadata": {},
   "outputs": [],
   "source": [
    "TIME_STEPS = 2\n",
    "LETTER_CONVERSION = ['a', 'b', 'c', 'd', 'e', 'f', 'g', 'h', 'i', 'j', 'k', 'l', 'm', 'n', 'o', 'p', 'q','r','s','t','u','v','w','x','y','z',' ','.', '' ]\n",
    "image_name = 0\n",
    "\n",
    "x_processed_data = []\n",
    "y_processed_data = []"
   ]
  },
  {
   "cell_type": "code",
   "execution_count": 3,
   "metadata": {},
   "outputs": [
    {
     "name": "stderr",
     "output_type": "stream",
     "text": [
      "Found cached dataset common_voice_11_0 (/home/hetricke/.cache/huggingface/datasets/mozilla-foundation___common_voice_11_0/en/11.0.0/3f27acf10f303eac5b6fbbbe02495aeddb46ecffdb0a2fe3507fcfbf89094631)\n"
     ]
    }
   ],
   "source": [
    "ds = load_dataset(\"mozilla-foundation/common_voice_11_0\", \"en\", split='train[:100]')"
   ]
  },
  {
   "cell_type": "code",
   "execution_count": 4,
   "metadata": {},
   "outputs": [],
   "source": [
    "def detect_leading_silence(sound, silence_threshold=-50.0, chunk_size=10):\n",
    "    trim_ms = 0 # ms\n",
    "\n",
    "    assert chunk_size > 0 # to avoid infinite loop\n",
    "    while sound[trim_ms:trim_ms+chunk_size].dBFS < silence_threshold and trim_ms < len(sound):\n",
    "        trim_ms += chunk_size\n",
    "\n",
    "    return trim_ms"
   ]
  },
  {
   "cell_type": "code",
   "execution_count": 5,
   "metadata": {},
   "outputs": [],
   "source": [
    "def convertToNum(s):\n",
    "    try: \n",
    "        return LETTER_CONVERSION.index(s)\n",
    "    except:\n",
    "        return -1"
   ]
  },
  {
   "cell_type": "code",
   "execution_count": 6,
   "metadata": {},
   "outputs": [],
   "source": [
    "def convertToLetter(val):\n",
    "    return LETTER_CONVERSION[val]"
   ]
  },
  {
   "cell_type": "code",
   "execution_count": 7,
   "metadata": {},
   "outputs": [],
   "source": [
    "def transcript_prep(transcription, audio_len):\n",
    "\n",
    "    global max_transcript_size     \n",
    "\n",
    "    if transcription.startswith('\"') and transcription.endswith('\"'):\n",
    "        # we can remove trailing quotation marks as they do not affect the transcription\n",
    "        transcription = transcription[1:-1]\n",
    "\n",
    "    transcription = transcription.lower()\n",
    "    \n",
    "    if len(transcription) > 0:\n",
    "        if transcription[-1] not in [\".\", \"?\", \"!\"]:\n",
    "            # append a full-stop to sentences that do not end in punctuation\n",
    "            transcription = transcription + \".\"\n",
    "\n",
    "    transcript_pieces = list(transcription)\n",
    "\n",
    "    for i in range(len(transcript_pieces)):\n",
    "        transcript_pieces[i] = convertToNum(transcript_pieces[i])\n",
    "\n",
    "    return transcript_pieces\n"
   ]
  },
  {
   "cell_type": "code",
   "execution_count": 10,
   "metadata": {},
   "outputs": [],
   "source": [
    "def prepare_dataset(batch):\n",
    "\n",
    "    global image_name\n",
    "    global x_processed_data\n",
    "    global y_processed_data\n",
    "\n",
    "    #reads in mp3\n",
    "    mp3_audio = AudioSegment.from_file(batch['path'], format=\"mp3\")  # read mp3\n",
    "\n",
    "    if(round(mp3_audio.duration_seconds) == 0):\n",
    "        return batch\n",
    "\n",
    "    #removes silent audio from the beginning and end\n",
    "    start_trim = detect_leading_silence(mp3_audio)\n",
    "    end_trim = detect_leading_silence(mp3_audio.reverse())\n",
    "    duration = len(mp3_audio)    \n",
    "    trimmed_sound = mp3_audio[start_trim:duration-end_trim]\n",
    "\n",
    "    #converts the mp3 into a wav file\n",
    "    wname = mktemp('.wav')  # use temporary file\n",
    "    trimmed_sound.export(wname, format=\"wav\")  # convert to wav\n",
    "    FS, audio_data = wavfile.read(wname)  # read wav file\n",
    "\n",
    "\n",
    "    #creates a file name for the spectrogram\n",
    "    file_name = \"images/\"+ str(image_name) + \".png\"\n",
    "    image_name = image_name + 1\n",
    "\n",
    "    #creates and saves the spectrogram\n",
    "    plt.figure()\n",
    "    plt.specgram(audio_data, Fs=FS, NFFT=128, noverlap=0)  # plot\n",
    "    plt.axis('off')\n",
    "    plt.savefig(file_name, bbox_inches='tight')\n",
    "\n",
    "    #clears the figure for the next audio transcript- otherwise it just overwrites the image, which causes Problems\n",
    "    plt.close()\n",
    "\n",
    "\n",
    "    #loads the spectrogram and turns it into an array\n",
    "    img = keras.preprocessing.image.load_img(file_name)\n",
    "    img_array = keras.preprocessing.image.img_to_array(img)\n",
    "\n",
    "\n",
    "    #slices the image array into appriopriate sizes for each chunk\n",
    "    samples = len(batch[\"sentence\"])\n",
    "    features = int(img_array.shape[0]/len(batch[\"sentence\"]))\n",
    "\n",
    "    divided_img_array = []\n",
    "\n",
    "    index = 0\n",
    "    x_data = []\n",
    "\n",
    "\n",
    "    for i in range(samples):\n",
    "        feature_array = img_array[index:index+features]\n",
    "        new_dim = feature_array.shape[0]*feature_array.shape[1]\n",
    "        feature_array = feature_array.reshape(new_dim, -1)\n",
    "\n",
    "        original_length = feature_array.shape[0]\n",
    "        padding = 66908-original_length\n",
    "        feature_array = np.pad(feature_array, [(0,padding), (0,0)], mode='constant')\n",
    "\n",
    "        feature_array = feature_array.tolist()\n",
    "        divided_img_array.append(feature_array)\n",
    "\n",
    "        x_data.append([])\n",
    "        datapoint = divided_img_array\n",
    "        x_data[i] = datapoint[::-1]\n",
    "\n",
    "        \n",
    "        index = index + features\n",
    "\n",
    "    for i in range(samples):\n",
    "        x_data.append([])\n",
    "        datapoint = divided_img_array[:i]\n",
    "        x_data[i] = datapoint[::-1]\n",
    "\n",
    "    x_processed_data.append(x_data)\n",
    "\n",
    "    y_processed_data.append(transcript_prep(batch[\"sentence\"], samples))\n",
    "    \n",
    "\n",
    "\n",
    "    #reshape the spectogram into a 3d array that goes (num samples x timesteps x features)\n",
    "    #1 sample is how many times this gets run through\n",
    "    #timesteps is how far backward to grab (so that's a value that can be played with!)\n",
    "    #num samples is I think how long it is (so grab the mp3 length)\n",
    "    #slice the image accordingly\n",
    "    #convert the image into an array (reference the obj detection) to use for the features\n",
    "    #profit\n",
    "\n",
    "    #so the min time is three, which, at 515 timesteps, gets 171.6666 columns of data per second\n",
    "    \n",
    "\n",
    "    return batch\n"
   ]
  },
  {
   "cell_type": "code",
   "execution_count": 11,
   "metadata": {},
   "outputs": [
    {
     "name": "stdout",
     "output_type": "stream",
     "text": [
      "0\n",
      "1\n",
      "2\n",
      "3\n",
      "4\n",
      "5\n",
      "6\n",
      "7\n",
      "8\n",
      "9\n",
      "10\n",
      "11\n",
      "12\n",
      "13\n",
      "14\n",
      "15\n",
      "16\n",
      "17\n",
      "18\n",
      "19\n",
      "20\n",
      "21\n",
      "22\n",
      "23\n",
      "24\n",
      "25\n",
      "26\n",
      "27\n",
      "28\n",
      "29\n"
     ]
    },
    {
     "name": "stderr",
     "output_type": "stream",
     "text": [
      "/home/hetricke/anaconda3/envs/speech_recog_env/lib/python3.11/site-packages/matplotlib/axes/_axes.py:7939: RuntimeWarning: divide by zero encountered in log10\n",
      "  Z = 10. * np.log10(spec)\n"
     ]
    },
    {
     "name": "stdout",
     "output_type": "stream",
     "text": [
      "30\n",
      "31\n",
      "32\n"
     ]
    }
   ],
   "source": [
    "image_name = 0\n",
    "#ds = ds.map(prepare_dataset, desc=\"preprocess dataset\")\n",
    "\n",
    "count = 0\n",
    "for data in ds:\n",
    "    print(count)\n",
    "    prepare_dataset(data)\n",
    "    count = count + 1\n"
   ]
  },
  {
   "cell_type": "code",
   "execution_count": 46,
   "metadata": {},
   "outputs": [],
   "source": [
    "# split = ds.train_test_split(test_size = 0.2,train_size = 0.8)\n",
    "# train = split['train']\n",
    "# test = split['test']\n",
    "\n",
    "x_train = x_processed_data[:80]\n",
    "y_train = y_processed_data[:80]\n",
    "\n",
    "x_test = x_processed_data[:-20]\n",
    "y_test = y_processed_data[:-20]\n"
   ]
  },
  {
   "cell_type": "code",
   "execution_count": 35,
   "metadata": {},
   "outputs": [],
   "source": [
    "#build model\n",
    "model = keras.Sequential()\n",
    "model.add(keras.layers.SimpleRNN(units = 128, activation = 'relu', input_shape = (66908, 3)))\n",
    "model.add(keras.layers.Dense(units = 128, activation = 'relu'))\n",
    "model.add(keras.layers.Dense(units = 128, activation='relu'))\n",
    "model.add(keras.layers.Dense(units = 128, activation ='relu'))\n",
    "model.add(keras.layers.Dense(len(LETTER_CONVERSION), activation = 'softmax'))\n",
    "model.compile(optimizer='adam', metrics=['accuracy'])"
   ]
  },
  {
   "cell_type": "code",
   "execution_count": null,
   "metadata": {},
   "outputs": [],
   "source": [
    "print(x_train[0])\n",
    "print(y_train[0])"
   ]
  },
  {
   "cell_type": "code",
   "execution_count": null,
   "metadata": {},
   "outputs": [],
   "source": [
    "#train model\n",
    "#what you might have to do is iteratively run fit on all the audio samples\n",
    "\n",
    "model.fit(x_train[0], y_train[0], epochs=10, batch_size=1)\n"
   ]
  },
  {
   "cell_type": "code",
   "execution_count": null,
   "metadata": {},
   "outputs": [],
   "source": [
    "#add computer i/o for speech recognition"
   ]
  }
 ],
 "metadata": {
  "kernelspec": {
   "display_name": "base",
   "language": "python",
   "name": "python3"
  },
  "language_info": {
   "codemirror_mode": {
    "name": "ipython",
    "version": 3
   },
   "file_extension": ".py",
   "mimetype": "text/x-python",
   "name": "python",
   "nbconvert_exporter": "python",
   "pygments_lexer": "ipython3",
   "version": "3.11.5"
  }
 },
 "nbformat": 4,
 "nbformat_minor": 2
}
